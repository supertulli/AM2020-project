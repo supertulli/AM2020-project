{
 "cells": [
  {
   "cell_type": "code",
   "execution_count": 1,
   "metadata": {},
   "outputs": [],
   "source": [
    "import pandas as pd\n",
    "fig=0\n",
    "fin = open(\"../resources/report.tpl.md\", \"rt\")\n",
    "mdtext = fin.read()\n",
    "\n",
    "def insertMdTable(dfin, name, mdtext, plot=False, transpose=False, maxcols=6, maxstr = 15):\n",
    "    \"\"\"\n",
    "    *insertMdTable* inserts markdown tables formatting a numeric dataframe as\n",
    "    markdown and inserting it amid the markdown text by replacing a tag that \n",
    "    concatenates the name argument with the \".table\" string    \n",
    "\n",
    "    Args: \n",
    "        dfin: numeric dataframe\n",
    "        name: tag to replace (<name>.table)\n",
    "        mdtext: markdown text\n",
    "        plot: prints the table (default is False)\n",
    "        transpose: transposes the table (default is False)\n",
    "        maxcols: wraps the table in two or more rows if the number of columns \n",
    "                 exceeds maxcols (default is 10)\n",
    "        maxstr: maximum size of strings, excess will be truncated\n",
    "    Returns: markdown text\n",
    "    \"\"\"\n",
    "    from IPython.display import Markdown as md\n",
    "    import math\n",
    "    import numpy as np\n",
    "\n",
    "    def not_nbr(s):\n",
    "        try:\n",
    "            return not np.isfinite(float(s))\n",
    "        except:\n",
    "            return True\n",
    "\n",
    "    nc = int(np.ceil(dfin.shape[int(not transpose)]/maxcols))\n",
    "    dfin = dfin.reset_index()\n",
    "    dfin = dfin.applymap(lambda x: str(x) if not_nbr(x) else (\n",
    "                                   0 if float(x) == 0 else (\n",
    "                                       int(x) if float(x) == int(x) else round(float(x), -int(math.floor(math.log10(abs(float(x))))) + 3)\n",
    "                                   )\n",
    "                                )\n",
    "                         )\n",
    "\n",
    "    # truncate strings\n",
    "    dfin.columns = [str(i)[:maxstr-3]+'...' if len(str(i))>maxstr else str(i) for i in dfin.columns]\n",
    "    dfin = dfin.applymap(lambda x: (str(x)[:maxstr-3]+'...' if len(str(x))>maxstr else str(x)) if not_nbr(x) else x)\n",
    "\n",
    "    tmp_mdtxt = \"\"\n",
    "    for i in range(nc):\n",
    "        if transpose:  \n",
    "            df = dfin.iloc[(i*maxcols):(min([(i+1)*maxcols,dfin.shape[1]])),:]\n",
    "            if i<nc-1:\n",
    "                df['...'] = ''\n",
    "            table = df.T\n",
    "            table.index.name = ' '\n",
    "            table = table.reset_index()\n",
    "            try:\n",
    "                table = table.to_markdown(floatfmt=\"0.12g\", index=False)\n",
    "            except:\n",
    "                from tabulate import tabulate\n",
    "                table = tabulate(table, table.columns, floatfmt=\"0.12g\", tablefmt='pipe', showindex=False)\n",
    "        else:\n",
    "            df = dfin.iloc[:,(i*maxcols):(min([(i+1)*maxcols,dfin.shape[1]]))]\n",
    "            if i<nc-1:\n",
    "                df['...'] = ''\n",
    "            try:\n",
    "                table = df.to_markdown(floatfmt=\"0.12g\", index=False)\n",
    "            except:\n",
    "                from tabulate import tabulate\n",
    "                table = tabulate(df, df.columns, floatfmt=\"0.12g\", tablefmt='pipe', showindex=False)\n",
    "            \n",
    "            table = table+'\\n'\n",
    "        \n",
    "        if i!=nc-1:\n",
    "            tmp_mdtxt = tmp_mdtxt + table.replace(\"|\\n\",\"\\n\") + \"\\n\\n\"\n",
    "        else:\n",
    "            transp = \"transposed \" if transpose else \"\"\n",
    "            tmp_mdtxt = \"Table: \"+transp+\"sample from \"+name+\".csv file. \\\\label{table:\"+name+\"}\\n\\n\" + tmp_mdtxt + table\n",
    "\n",
    "    mdtext = mdtext.replace(name+'.table', tmp_mdtxt)\n",
    "    \n",
    "    if plot:\n",
    "        print(tmp_mdtxt)\n",
    "\n",
    "    return mdtext\n"
   ]
  },
  {
   "cell_type": "markdown",
   "metadata": {},
   "source": [
    "World Development Indicators from https://databank.worldbank.org/source/world-development-indicators"
   ]
  },
  {
   "cell_type": "code",
   "execution_count": 2,
   "metadata": {},
   "outputs": [
    {
     "data": {
      "text/html": [
       "<div>\n",
       "<style scoped>\n",
       "    .dataframe tbody tr th:only-of-type {\n",
       "        vertical-align: middle;\n",
       "    }\n",
       "\n",
       "    .dataframe tbody tr th {\n",
       "        vertical-align: top;\n",
       "    }\n",
       "\n",
       "    .dataframe thead th {\n",
       "        text-align: right;\n",
       "    }\n",
       "</style>\n",
       "<table border=\"1\" class=\"dataframe\">\n",
       "  <thead>\n",
       "    <tr style=\"text-align: right;\">\n",
       "      <th></th>\n",
       "      <th>Country Code</th>\n",
       "      <th>Indicator Name</th>\n",
       "      <th>Indicator Code</th>\n",
       "      <th>1960</th>\n",
       "      <th>...</th>\n",
       "      <th>2018</th>\n",
       "    </tr>\n",
       "    <tr>\n",
       "      <th>Country Name</th>\n",
       "      <th></th>\n",
       "      <th></th>\n",
       "      <th></th>\n",
       "      <th></th>\n",
       "      <th></th>\n",
       "      <th></th>\n",
       "    </tr>\n",
       "  </thead>\n",
       "  <tbody>\n",
       "    <tr>\n",
       "      <th>Arab World</th>\n",
       "      <td>ARB</td>\n",
       "      <td>Access to clean fuels and technologies for coo...</td>\n",
       "      <td>EG.CFT.ACCS.ZS</td>\n",
       "      <td>NaN</td>\n",
       "      <td>...</td>\n",
       "      <td>NaN</td>\n",
       "    </tr>\n",
       "    <tr>\n",
       "      <th>Arab World</th>\n",
       "      <td>ARB</td>\n",
       "      <td>Access to electricity (% of population)</td>\n",
       "      <td>EG.ELC.ACCS.ZS</td>\n",
       "      <td>NaN</td>\n",
       "      <td>...</td>\n",
       "      <td>89.286856</td>\n",
       "    </tr>\n",
       "    <tr>\n",
       "      <th>Arab World</th>\n",
       "      <td>ARB</td>\n",
       "      <td>Access to electricity, rural (% of rural popul...</td>\n",
       "      <td>EG.ELC.ACCS.RU.ZS</td>\n",
       "      <td>NaN</td>\n",
       "      <td>...</td>\n",
       "      <td>79.248100</td>\n",
       "    </tr>\n",
       "    <tr>\n",
       "      <th>Arab World</th>\n",
       "      <td>ARB</td>\n",
       "      <td>Access to electricity, urban (% of urban popul...</td>\n",
       "      <td>EG.ELC.ACCS.UR.ZS</td>\n",
       "      <td>NaN</td>\n",
       "      <td>...</td>\n",
       "      <td>97.063959</td>\n",
       "    </tr>\n",
       "    <tr>\n",
       "      <th>Arab World</th>\n",
       "      <td>ARB</td>\n",
       "      <td>Account ownership at a financial institution o...</td>\n",
       "      <td>FX.OWN.TOTL.ZS</td>\n",
       "      <td>NaN</td>\n",
       "      <td>...</td>\n",
       "      <td>NaN</td>\n",
       "    </tr>\n",
       "    <tr>\n",
       "      <th>Arab World</th>\n",
       "      <td>ARB</td>\n",
       "      <td>Account ownership at a financial institution o...</td>\n",
       "      <td>FX.OWN.TOTL.FE.ZS</td>\n",
       "      <td>NaN</td>\n",
       "      <td>...</td>\n",
       "      <td>NaN</td>\n",
       "    </tr>\n",
       "    <tr>\n",
       "      <th>Arab World</th>\n",
       "      <td>ARB</td>\n",
       "      <td>Account ownership at a financial institution o...</td>\n",
       "      <td>FX.OWN.TOTL.MA.ZS</td>\n",
       "      <td>NaN</td>\n",
       "      <td>...</td>\n",
       "      <td>NaN</td>\n",
       "    </tr>\n",
       "    <tr>\n",
       "      <th>Arab World</th>\n",
       "      <td>ARB</td>\n",
       "      <td>Account ownership at a financial institution o...</td>\n",
       "      <td>FX.OWN.TOTL.OL.ZS</td>\n",
       "      <td>NaN</td>\n",
       "      <td>...</td>\n",
       "      <td>NaN</td>\n",
       "    </tr>\n",
       "    <tr>\n",
       "      <th>Arab World</th>\n",
       "      <td>ARB</td>\n",
       "      <td>Account ownership at a financial institution o...</td>\n",
       "      <td>FX.OWN.TOTL.40.ZS</td>\n",
       "      <td>NaN</td>\n",
       "      <td>...</td>\n",
       "      <td>NaN</td>\n",
       "    </tr>\n",
       "    <tr>\n",
       "      <th>Arab World</th>\n",
       "      <td>ARB</td>\n",
       "      <td>Account ownership at a financial institution o...</td>\n",
       "      <td>FX.OWN.TOTL.PL.ZS</td>\n",
       "      <td>NaN</td>\n",
       "      <td>...</td>\n",
       "      <td>NaN</td>\n",
       "    </tr>\n",
       "  </tbody>\n",
       "</table>\n",
       "</div>"
      ],
      "text/plain": [
       "             Country Code                                     Indicator Name  \\\n",
       "Country Name                                                                   \n",
       "Arab World            ARB  Access to clean fuels and technologies for coo...   \n",
       "Arab World            ARB            Access to electricity (% of population)   \n",
       "Arab World            ARB  Access to electricity, rural (% of rural popul...   \n",
       "Arab World            ARB  Access to electricity, urban (% of urban popul...   \n",
       "Arab World            ARB  Account ownership at a financial institution o...   \n",
       "Arab World            ARB  Account ownership at a financial institution o...   \n",
       "Arab World            ARB  Account ownership at a financial institution o...   \n",
       "Arab World            ARB  Account ownership at a financial institution o...   \n",
       "Arab World            ARB  Account ownership at a financial institution o...   \n",
       "Arab World            ARB  Account ownership at a financial institution o...   \n",
       "\n",
       "                 Indicator Code  1960  ...       2018  \n",
       "Country Name                                           \n",
       "Arab World       EG.CFT.ACCS.ZS   NaN  ...        NaN  \n",
       "Arab World       EG.ELC.ACCS.ZS   NaN  ...  89.286856  \n",
       "Arab World    EG.ELC.ACCS.RU.ZS   NaN  ...  79.248100  \n",
       "Arab World    EG.ELC.ACCS.UR.ZS   NaN  ...  97.063959  \n",
       "Arab World       FX.OWN.TOTL.ZS   NaN  ...        NaN  \n",
       "Arab World    FX.OWN.TOTL.FE.ZS   NaN  ...        NaN  \n",
       "Arab World    FX.OWN.TOTL.MA.ZS   NaN  ...        NaN  \n",
       "Arab World    FX.OWN.TOTL.OL.ZS   NaN  ...        NaN  \n",
       "Arab World    FX.OWN.TOTL.40.ZS   NaN  ...        NaN  \n",
       "Arab World    FX.OWN.TOTL.PL.ZS   NaN  ...        NaN  "
      ]
     },
     "metadata": {},
     "output_type": "display_data"
    },
    {
     "data": {
      "text/plain": [
       "(380160, 66)"
      ]
     },
     "metadata": {},
     "output_type": "display_data"
    }
   ],
   "source": [
    "wdi = pd.read_csv('../data/WDIData.csv')\n",
    "\n",
    "# generate markdown file sample \n",
    "wdi_d = wdi[['Country Name','Country Code','Indicator Name','Indicator Code','1960']].head(10)\n",
    "wdi_d['...']='...'\n",
    "wdi_d = pd.concat([wdi_d,wdi[['2018']].head(10)],axis=1).set_index('Country Name')\n",
    "mdtext = insertMdTable(wdi_d,'WDIData', mdtext,maxcols=7) \n",
    "\n",
    "display(wdi_d)\n",
    "display(wdi.shape)"
   ]
  },
  {
   "cell_type": "markdown",
   "metadata": {},
   "source": [
    "Human Development Index from http://hdr.undp.org/en/data"
   ]
  },
  {
   "cell_type": "code",
   "execution_count": 3,
   "metadata": {},
   "outputs": [
    {
     "data": {
      "text/html": [
       "<div>\n",
       "<style scoped>\n",
       "    .dataframe tbody tr th:only-of-type {\n",
       "        vertical-align: middle;\n",
       "    }\n",
       "\n",
       "    .dataframe tbody tr th {\n",
       "        vertical-align: top;\n",
       "    }\n",
       "\n",
       "    .dataframe thead th {\n",
       "        text-align: right;\n",
       "    }\n",
       "</style>\n",
       "<table border=\"1\" class=\"dataframe\">\n",
       "  <thead>\n",
       "    <tr style=\"text-align: right;\">\n",
       "      <th></th>\n",
       "      <th>Country</th>\n",
       "      <th>1990</th>\n",
       "      <th>1991</th>\n",
       "      <th>...</th>\n",
       "      <th>2018</th>\n",
       "    </tr>\n",
       "    <tr>\n",
       "      <th>HDI Rank (2018)</th>\n",
       "      <th></th>\n",
       "      <th></th>\n",
       "      <th></th>\n",
       "      <th></th>\n",
       "      <th></th>\n",
       "    </tr>\n",
       "  </thead>\n",
       "  <tbody>\n",
       "    <tr>\n",
       "      <th>170</th>\n",
       "      <td>Afghanistan</td>\n",
       "      <td>0.298</td>\n",
       "      <td>0.304</td>\n",
       "      <td>...</td>\n",
       "      <td>0.496</td>\n",
       "    </tr>\n",
       "    <tr>\n",
       "      <th>69</th>\n",
       "      <td>Albania</td>\n",
       "      <td>0.644</td>\n",
       "      <td>0.625</td>\n",
       "      <td>...</td>\n",
       "      <td>0.791</td>\n",
       "    </tr>\n",
       "    <tr>\n",
       "      <th>82</th>\n",
       "      <td>Algeria</td>\n",
       "      <td>0.578</td>\n",
       "      <td>0.582</td>\n",
       "      <td>...</td>\n",
       "      <td>0.759</td>\n",
       "    </tr>\n",
       "    <tr>\n",
       "      <th>36</th>\n",
       "      <td>Andorra</td>\n",
       "      <td>NaN</td>\n",
       "      <td>NaN</td>\n",
       "      <td>...</td>\n",
       "      <td>0.857</td>\n",
       "    </tr>\n",
       "    <tr>\n",
       "      <th>149</th>\n",
       "      <td>Angola</td>\n",
       "      <td>NaN</td>\n",
       "      <td>NaN</td>\n",
       "      <td>...</td>\n",
       "      <td>0.574</td>\n",
       "    </tr>\n",
       "    <tr>\n",
       "      <th>74</th>\n",
       "      <td>Antigua and Barbuda</td>\n",
       "      <td>NaN</td>\n",
       "      <td>NaN</td>\n",
       "      <td>...</td>\n",
       "      <td>0.776</td>\n",
       "    </tr>\n",
       "    <tr>\n",
       "      <th>48</th>\n",
       "      <td>Argentina</td>\n",
       "      <td>0.707</td>\n",
       "      <td>0.714</td>\n",
       "      <td>...</td>\n",
       "      <td>0.830</td>\n",
       "    </tr>\n",
       "    <tr>\n",
       "      <th>81</th>\n",
       "      <td>Armenia</td>\n",
       "      <td>0.633</td>\n",
       "      <td>0.629</td>\n",
       "      <td>...</td>\n",
       "      <td>0.760</td>\n",
       "    </tr>\n",
       "    <tr>\n",
       "      <th>6</th>\n",
       "      <td>Australia</td>\n",
       "      <td>0.866</td>\n",
       "      <td>0.867</td>\n",
       "      <td>...</td>\n",
       "      <td>0.938</td>\n",
       "    </tr>\n",
       "    <tr>\n",
       "      <th>20</th>\n",
       "      <td>Austria</td>\n",
       "      <td>0.795</td>\n",
       "      <td>0.799</td>\n",
       "      <td>...</td>\n",
       "      <td>0.914</td>\n",
       "    </tr>\n",
       "  </tbody>\n",
       "</table>\n",
       "</div>"
      ],
      "text/plain": [
       "                             Country   1990   1991  ...   2018\n",
       "HDI Rank (2018)                                               \n",
       "170                      Afghanistan  0.298  0.304  ...  0.496\n",
       "69                           Albania  0.644  0.625  ...  0.791\n",
       "82                           Algeria  0.578  0.582  ...  0.759\n",
       "36                           Andorra    NaN    NaN  ...  0.857\n",
       "149                           Angola    NaN    NaN  ...  0.574\n",
       "74               Antigua and Barbuda    NaN    NaN  ...  0.776\n",
       "48                         Argentina  0.707  0.714  ...  0.830\n",
       "81                           Armenia  0.633  0.629  ...  0.760\n",
       "6                          Australia  0.866  0.867  ...  0.938\n",
       "20                           Austria  0.795  0.799  ...  0.914"
      ]
     },
     "metadata": {},
     "output_type": "display_data"
    },
    {
     "data": {
      "text/plain": [
       "(212, 31)"
      ]
     },
     "metadata": {},
     "output_type": "display_data"
    }
   ],
   "source": [
    "hdi = pd.read_csv('../data/HDI.csv', na_values='..')\n",
    "\n",
    "# generate markdown file sample \n",
    "hdi_d = hdi[['HDI Rank (2018)','Country','1990','1991']].head(10)\n",
    "hdi_d['...']='...'\n",
    "hdi_d = pd.concat([hdi_d,hdi[['2018']].head(10)],axis=1).set_index('HDI Rank (2018)')\n",
    "mdtext = insertMdTable(hdi_d,'HDI', mdtext,maxcols=7) \n",
    "\n",
    "display(hdi_d)\n",
    "display(hdi.shape)"
   ]
  },
  {
   "cell_type": "markdown",
   "metadata": {},
   "source": [
    "To join Human Development Index with World Development Indicators by Country Names, several country names had to be replaced to use the same convention in both data sets.  "
   ]
  },
  {
   "cell_type": "code",
   "execution_count": 4,
   "metadata": {},
   "outputs": [],
   "source": [
    "to_repl = pd.read_csv('../data/to_repl.csv').values\n",
    "hdi['Country Name'] = hdi.Country.replace(to_replace=to_repl[:,0],value=to_repl[:,1])"
   ]
  },
  {
   "cell_type": "markdown",
   "metadata": {},
   "source": [
    "The goal of the study will be to explore patterns and explain changes in the Human Development Index - HDI - our *label* or *dependent* variable. Such changes are defined as the difference between the country HDI at a given year and the HDI three years later as follows: \n",
    "$$HDI_{\\Delta}=HDI_{y+3} - HDI_{y}$$\n",
    "As assumption, we considered the year to year changes less informative, instead, a three year change shall provide a more robust metric of whether a sustainable change is occuring as opposed to a one-off variation (*e.g.*: natural catastrophe, formula revisions, election year book cooking). Because the quality of political institutions can be questioned in many countries, the quality of the statistics and reporting provided is also often questionable, thus, focusing on the variation makes the overall data analysis less biased by inter country variability in the quality of statistics or political institutions.\n",
    "The reason to exclude the first decade available in the HDI data set is grounded on the fact that many WDI metrics and countries had no reliable statistical reporting prior to the institution consolidation that followed the 1989 fall of Berlin Wall and the end of yugoslav civil war, so 1990 and 1995 HDI reporting were excluded.  "
   ]
  },
  {
   "cell_type": "code",
   "execution_count": 5,
   "metadata": {},
   "outputs": [],
   "source": [
    "ys = [2000,2005,2010,2015]\n",
    "yss = [str(i) for i in ys]\n",
    "for y in ys:\n",
    "    hdi[str(y)]=hdi[str(y+3)]-hdi[str(y)]\n",
    "hdi['Indicator Name']='$HDI_{\\Delta}$'\n",
    "hdi = hdi[['Country Name','Indicator Name','2000','2005','2010','2015']]"
   ]
  },
  {
   "cell_type": "markdown",
   "metadata": {},
   "source": [
    "The World Development Indicators, our *independent* or *explanatory* variables or *features*, were also preprocessed to include variations over the course of, in this case, 2 years ($WDI_{\\Delta} = WDI_y - WDI_{y-2}$), the hipothesis is that the increasing or decreasing trend can contribute as predictor for the label variable. Notice also that the labels associated the World Development Indicators at a given year ($HDI_y$), are caculated as the difference between the HDI three years into the future and the HDI at the given year ($HDI_{\\Delta}=HDI_{y+3} - HDI_{y}$).\n",
    "Taking all into account, a 5 year period is contributing to every given sample and thus, to maximize sample independence, we are not overlapping periods in the process of producing the samples out of the WDI and HDI data sets, instead, we will build one sample for each country every five years (since 1998 up to 2018).\n",
    "Moreover, the Human Development Index is a derived metric that uses variables in the WDI data set, thus, avoinding time overlaps and predicting the deltas is what prevents us from going in the direction of less interesting conclusions such as finding the HDI formula (a reverse-engineering task).  "
   ]
  },
  {
   "cell_type": "code",
   "execution_count": 6,
   "metadata": {},
   "outputs": [],
   "source": [
    "past = [i for l in [[str(y-2),str(y-1)] for y in ys] for i in l]\n",
    "wdi = wdi[['Country Name','Indicator Name']+yss+past]\n",
    "for y in ys:\n",
    "    wdi[str(y)] = wdi[[str(y-2),str(y-1),str(y)]].mean(skipna=True, axis=1)\n",
    "\n",
    "wdid = wdi.copy()\n",
    "for y in ys:\n",
    "    wdid[str(y)] =(wdi[str(y)]-wdi[str(y-2)])\n",
    "wdid['Indicator Name'] = wdid['Indicator Name'] + ' - Delta'\n",
    "\n",
    "wdi.drop(past,inplace=True, axis=1)\n",
    "wdid.drop(past,inplace=True, axis=1)"
   ]
  },
  {
   "cell_type": "markdown",
   "metadata": {},
   "source": [
    "Both datasets have several country aggregates derived from countries already represented in the data set (dependent samples). For that reason we discarded aggregates from both data sets. Aggregates such as \"East Asia and the Pacific\", \"Europe and Central Asia\", \"Latin America and the Caribbean\", \"South Asia\", \"Sub-Saharan Africa\" or \"Least Developed Countries\"."
   ]
  },
  {
   "cell_type": "code",
   "execution_count": 7,
   "metadata": {},
   "outputs": [],
   "source": [
    "hdi = hdi.set_index('Country Name').drop(['Human Development',\n",
    "                                          'Very high human development', 'High human development',\n",
    "                                          'Medium human development', 'Low human development',\n",
    "                                          'Developing Countries', 'Regions', 'Arab World',\n",
    "                                          'East Asia and the Pacific', 'Europe and Central Asia',\n",
    "                                          'Latin America and the Caribbean', 'South Asia',\n",
    "                                          'Sub-Saharan Africa', 'Least Developed Countries',\n",
    "                                          'Small Island Developing States',\n",
    "                                          'Organization for Economic Co-operation and Development', 'World'], \n",
    "                                         axis=0).reset_index().dropna(subset=yss, axis=0)\n",
    "wdi = wdi[wdi['Country Name'].isin(hdi['Country Name'].values)]\n",
    "wdid = wdid[wdid['Country Name'].isin(hdi['Country Name'].values)]"
   ]
  },
  {
   "cell_type": "markdown",
   "metadata": {},
   "source": [
    "There is a need to unpivot the data sets from wide to long format before concatenating all data along the rows."
   ]
  },
  {
   "cell_type": "code",
   "execution_count": 8,
   "metadata": {},
   "outputs": [],
   "source": [
    "hdi = pd.melt(hdi, id_vars=['Country Name','Indicator Name'], value_vars=yss)\n",
    "wdi = pd.melt(wdi, id_vars=['Country Name','Indicator Name'], value_vars=yss)\n",
    "wdid = pd.melt(wdid, id_vars=['Country Name','Indicator Name'], value_vars=yss)"
   ]
  },
  {
   "cell_type": "code",
   "execution_count": 9,
   "metadata": {},
   "outputs": [],
   "source": [
    "dset = pd.concat([hdi,wdi,wdid])\n",
    "dset = dset.dropna(subset=['value'], axis=0)\n",
    "dset['Country - Year'] = dset['Country Name'] + ' - ' + dset['variable']\n",
    "dset = dset.drop(['Country Name','variable'], axis=1)"
   ]
  },
  {
   "cell_type": "markdown",
   "metadata": {},
   "source": [
    "Finally, all variables can become represented as columns by pivoting the concatenated rows. The result is a conventional tabular data set still quite populated with nulls. "
   ]
  },
  {
   "cell_type": "code",
   "execution_count": 10,
   "metadata": {},
   "outputs": [],
   "source": [
    "dset = dset.reset_index(drop=True).pivot(columns=['Indicator Name'],\n",
    "                                         index='Country - Year', \n",
    "                                         values='value')"
   ]
  },
  {
   "cell_type": "markdown",
   "metadata": {},
   "source": [
    "As a first step to avoid empty values in the variables, we will find the list of metrics that have higher number of empty values, usually meaning that such metric is only available for few countries or for very recent years.\n",
    "We will rank the metrics from the one with the most empty values (close to 691 - \\ref{fig1}) down to the one with the least empty values (0 - \\ref{fig1}) and visually identify an elbow that would help us decide for a reasonable number of empty values to tolerate in our selection of varibles to include in the data set.  "
   ]
  },
  {
   "cell_type": "code",
   "execution_count": 11,
   "metadata": {},
   "outputs": [
    {
     "data": {
      "image/png": "[encoded data removed]",
      "text/plain": [
       "<Figure size 360x360 with 1 Axes>"
      ]
     },
     "metadata": {
      "needs_background": "light"
     },
     "output_type": "display_data"
    }
   ],
   "source": [
    "cna = dset.isna().sum().sort_values(ascending=False)\n",
    "ax = cna.plot(figsize=(5,5), \n",
    "                 grid=True, \n",
    "                 xlabel=\"features\", \n",
    "                 ylabel=\"empty values count\",\n",
    "                 xticks=[],\n",
    "                 yticks=[691,600,500,400,300,200,100,60,30,0])\n",
    "fig += 1\n",
    "f = ax.get_figure()\n",
    "f.savefig('../resources/fig'+str(fig)+\".png\")"
   ]
  },
  {
   "cell_type": "markdown",
   "metadata": {},
   "source": [
    "There is an elbow below 60 empty values (\\ref{fig1}) thus, for a range between 0 and 60 empty values, we will perform a detailed inspection of the balance between the chosen number of features and the number of samples that will remain after discarding samples having one or more empty values."
   ]
  },
  {
   "cell_type": "code",
   "execution_count": 12,
   "metadata": {},
   "outputs": [
    {
     "data": {
      "image/png": "[encoded data removed]",
      "text/plain": [
       "<Figure size 360x360 with 1 Axes>"
      ]
     },
     "metadata": {
      "needs_background": "light"
     },
     "output_type": "display_data"
    }
   ],
   "source": [
    "sdf = pd.DataFrame(columns=['n','p','na_to_drop_var'])\n",
    "for i in range(1,61):\n",
    "    sr = pd.Series(list(dset[cna[cna<i].index].dropna(how='any', axis=0).shape)+[i], index = sdf.columns)\n",
    "    sdf = sdf.append(sr, ignore_index=True)  \n",
    "ax = sdf[['n','p']].plot(figsize=(5,5), \n",
    "                                         grid=True, \n",
    "                                         xlabel=\"number of features selected (p)\", \n",
    "                                         ylabel=\"number of samples (n)\",\n",
    "                                         xticks=[0,5,10,16,20,30,60])\n",
    "fig += 1\n",
    "f = ax.get_figure()\n",
    "f.savefig('../resources/fig'+str(fig)+\".png\")"
   ]
  },
  {
   "cell_type": "markdown",
   "metadata": {},
   "source": [
    "The result is the chart from figure \\ref{fig2}. There we can observe that we wish to have more features our decision shall move towards tolerating 30 empty values, as already observed in figure \\ref{fig1}. On the other hand, if we want to maximize the number of independent samples, then our decision shall approximate 16 empty values. Once our concern was more in the direction of maximizing the number of independet samples (already scarce from the start), we decided to tolerate 16 empty values."
   ]
  },
  {
   "cell_type": "code",
   "execution_count": 13,
   "metadata": {},
   "outputs": [
    {
     "data": {
      "text/html": [
       "<div>\n",
       "<style scoped>\n",
       "    .dataframe tbody tr th:only-of-type {\n",
       "        vertical-align: middle;\n",
       "    }\n",
       "\n",
       "    .dataframe tbody tr th {\n",
       "        vertical-align: top;\n",
       "    }\n",
       "\n",
       "    .dataframe thead th {\n",
       "        text-align: right;\n",
       "    }\n",
       "</style>\n",
       "<table border=\"1\" class=\"dataframe\">\n",
       "  <thead>\n",
       "    <tr style=\"text-align: right;\">\n",
       "      <th></th>\n",
       "      <th>Population ages 15-64, female (% of female population)</th>\n",
       "      <th>Merchandise imports by the reporting economy, residual (% of total merchandise imports)</th>\n",
       "      <th>Population ages 40-44, female (% of female population)</th>\n",
       "      <th>...</th>\n",
       "      <th>$HDI_{\\Delta}$</th>\n",
       "    </tr>\n",
       "    <tr>\n",
       "      <th>Country - Year</th>\n",
       "      <th></th>\n",
       "      <th></th>\n",
       "      <th></th>\n",
       "      <th></th>\n",
       "      <th></th>\n",
       "    </tr>\n",
       "  </thead>\n",
       "  <tbody>\n",
       "    <tr>\n",
       "      <th>Afghanistan - 2015</th>\n",
       "      <td>51.502065</td>\n",
       "      <td>40.361607</td>\n",
       "      <td>3.830763</td>\n",
       "      <td>...</td>\n",
       "      <td>0.006</td>\n",
       "    </tr>\n",
       "    <tr>\n",
       "      <th>Albania - 2000</th>\n",
       "      <td>62.566526</td>\n",
       "      <td>0.399839</td>\n",
       "      <td>6.540066</td>\n",
       "      <td>...</td>\n",
       "      <td>0.020</td>\n",
       "    </tr>\n",
       "    <tr>\n",
       "      <th>Albania - 2005</th>\n",
       "      <td>65.075597</td>\n",
       "      <td>0.449250</td>\n",
       "      <td>7.335988</td>\n",
       "      <td>...</td>\n",
       "      <td>0.022</td>\n",
       "    </tr>\n",
       "    <tr>\n",
       "      <th>Albania - 2010</th>\n",
       "      <td>67.429475</td>\n",
       "      <td>0.078443</td>\n",
       "      <td>6.934936</td>\n",
       "      <td>...</td>\n",
       "      <td>0.041</td>\n",
       "    </tr>\n",
       "    <tr>\n",
       "      <th>Albania - 2015</th>\n",
       "      <td>68.785771</td>\n",
       "      <td>0.397006</td>\n",
       "      <td>6.591466</td>\n",
       "      <td>...</td>\n",
       "      <td>0.003</td>\n",
       "    </tr>\n",
       "    <tr>\n",
       "      <th>Algeria - 2000</th>\n",
       "      <td>60.390645</td>\n",
       "      <td>0.115899</td>\n",
       "      <td>4.915911</td>\n",
       "      <td>...</td>\n",
       "      <td>0.030</td>\n",
       "    </tr>\n",
       "    <tr>\n",
       "      <th>Algeria - 2005</th>\n",
       "      <td>65.107765</td>\n",
       "      <td>0.595468</td>\n",
       "      <td>5.550004</td>\n",
       "      <td>...</td>\n",
       "      <td>0.017</td>\n",
       "    </tr>\n",
       "    <tr>\n",
       "      <th>Algeria - 2010</th>\n",
       "      <td>67.224298</td>\n",
       "      <td>0.470022</td>\n",
       "      <td>5.948181</td>\n",
       "      <td>...</td>\n",
       "      <td>0.016</td>\n",
       "    </tr>\n",
       "    <tr>\n",
       "      <th>Algeria - 2015</th>\n",
       "      <td>66.006093</td>\n",
       "      <td>0.020237</td>\n",
       "      <td>6.200448</td>\n",
       "      <td>...</td>\n",
       "      <td>0.008</td>\n",
       "    </tr>\n",
       "    <tr>\n",
       "      <th>Angola - 2000</th>\n",
       "      <td>49.830470</td>\n",
       "      <td>9.724096</td>\n",
       "      <td>3.644054</td>\n",
       "      <td>...</td>\n",
       "      <td>0.034</td>\n",
       "    </tr>\n",
       "  </tbody>\n",
       "</table>\n",
       "</div>"
      ],
      "text/plain": [
       "                    Population ages 15-64, female (% of female population)  \\\n",
       "Country - Year                                                               \n",
       "Afghanistan - 2015                                          51.502065        \n",
       "Albania - 2000                                              62.566526        \n",
       "Albania - 2005                                              65.075597        \n",
       "Albania - 2010                                              67.429475        \n",
       "Albania - 2015                                              68.785771        \n",
       "Algeria - 2000                                              60.390645        \n",
       "Algeria - 2005                                              65.107765        \n",
       "Algeria - 2010                                              67.224298        \n",
       "Algeria - 2015                                              66.006093        \n",
       "Angola - 2000                                               49.830470        \n",
       "\n",
       "                    Merchandise imports by the reporting economy, residual (% of total merchandise imports)  \\\n",
       "Country - Year                                                                                                \n",
       "Afghanistan - 2015                                          40.361607                                         \n",
       "Albania - 2000                                               0.399839                                         \n",
       "Albania - 2005                                               0.449250                                         \n",
       "Albania - 2010                                               0.078443                                         \n",
       "Albania - 2015                                               0.397006                                         \n",
       "Algeria - 2000                                               0.115899                                         \n",
       "Algeria - 2005                                               0.595468                                         \n",
       "Algeria - 2010                                               0.470022                                         \n",
       "Algeria - 2015                                               0.020237                                         \n",
       "Angola - 2000                                                9.724096                                         \n",
       "\n",
       "                    Population ages 40-44, female (% of female population)  \\\n",
       "Country - Year                                                               \n",
       "Afghanistan - 2015                                           3.830763        \n",
       "Albania - 2000                                               6.540066        \n",
       "Albania - 2005                                               7.335988        \n",
       "Albania - 2010                                               6.934936        \n",
       "Albania - 2015                                               6.591466        \n",
       "Algeria - 2000                                               4.915911        \n",
       "Algeria - 2005                                               5.550004        \n",
       "Algeria - 2010                                               5.948181        \n",
       "Algeria - 2015                                               6.200448        \n",
       "Angola - 2000                                                3.644054        \n",
       "\n",
       "                    ...  $HDI_{\\Delta}$  \n",
       "Country - Year                           \n",
       "Afghanistan - 2015  ...           0.006  \n",
       "Albania - 2000      ...           0.020  \n",
       "Albania - 2005      ...           0.022  \n",
       "Albania - 2010      ...           0.041  \n",
       "Albania - 2015      ...           0.003  \n",
       "Algeria - 2000      ...           0.030  \n",
       "Algeria - 2005      ...           0.017  \n",
       "Algeria - 2010      ...           0.016  \n",
       "Algeria - 2015      ...           0.008  \n",
       "Angola - 2000       ...           0.034  "
      ]
     },
     "metadata": {},
     "output_type": "display_data"
    },
    {
     "data": {
      "text/plain": [
       "(573, 372)"
      ]
     },
     "metadata": {},
     "output_type": "display_data"
    }
   ],
   "source": [
    "dset = dset[cna[cna<=16].index]\n",
    "dset = dset.dropna(how='any', axis=0).dropna(how='any', axis=1)\n",
    "dset.columns = dset.columns.values\n",
    "\n",
    "# sorting columns : label last\n",
    "dset = dset[list(set(dset.columns)-set(['$HDI_{\\Delta}$'])) + ['$HDI_{\\Delta}$']]\n",
    "# to csv\n",
    "dset.to_csv('../data/WDI.csv')\n",
    "\n",
    "dset_d = dset.iloc[:10,:3]\n",
    "dset_d['...']='...'\n",
    "dset_d = pd.concat([dset_d,dset[['$HDI_{\\Delta}$']].head(10)],axis=1)\n",
    "mdtext = insertMdTable(dset_d,'WDI', mdtext, maxcols=7) \n",
    "\n",
    "display(dset_d)\n",
    "display(dset.shape)"
   ]
  },
  {
   "cell_type": "code",
   "execution_count": 14,
   "metadata": {},
   "outputs": [],
   "source": [
    "fin.close()\n",
    "fin = open(\"../README.md\", \"wt\")\n",
    "fin.write(mdtext)\n",
    "fin.close()"
   ]
  },
  {
   "cell_type": "code",
   "execution_count": 15,
   "metadata": {},
   "outputs": [
    {
     "name": "stderr",
     "output_type": "stream",
     "text": [
      "pdflatex: security risk: running with elevated privileges\n",
      "pdflatex: security risk: running with elevated privileges\n"
     ]
    }
   ],
   "source": [
    "!pandoc -s \"../README.md\" -t latex -o \"../report.pdf\"  --resource-path=..\\ --filter pandoc-citeproc --bibliography=..\\references\\library.bib --csl=..\\csl\\iso690-author-date-en.csl"
   ]
  },
  {
   "cell_type": "code",
   "execution_count": null,
   "metadata": {},
   "outputs": [],
   "source": []
  }
 ],
 "metadata": {
  "kernelspec": {
   "display_name": "Python 3",
   "language": "python",
   "name": "python3"
  },
  "language_info": {
   "codemirror_mode": {
    "name": "ipython",
    "version": 3
   },
   "file_extension": ".py",
   "mimetype": "text/x-python",
   "name": "python",
   "nbconvert_exporter": "python",
   "pygments_lexer": "ipython3",
   "version": "3.8.5"
  }
 },
 "nbformat": 4,
 "nbformat_minor": 4
}
